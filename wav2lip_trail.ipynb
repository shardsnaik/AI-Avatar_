{
  "nbformat": 4,
  "nbformat_minor": 0,
  "metadata": {
    "colab": {
      "provenance": [],
      "gpuType": "T4"
    },
    "kernelspec": {
      "name": "python3",
      "display_name": "Python 3"
    },
    "language_info": {
      "name": "python"
    },
    "accelerator": "GPU"
  },
  "cells": [
    {
      "cell_type": "code",
      "execution_count": 1,
      "metadata": {
        "colab": {
          "base_uri": "https://localhost:8080/"
        },
        "id": "xDWgcWpVRZzZ",
        "outputId": "efb93e59-8f27-4fed-e419-8ce07e575012"
      },
      "outputs": [
        {
          "output_type": "stream",
          "name": "stdout",
          "text": [
            "Cloning into 'Wav2Lip'...\n",
            "remote: Enumerating objects: 403, done.\u001b[K\n",
            "remote: Counting objects: 100% (18/18), done.\u001b[K\n",
            "remote: Compressing objects: 100% (17/17), done.\u001b[K\n",
            "remote: Total 403 (delta 14), reused 1 (delta 1), pack-reused 385 (from 4)\u001b[K\n",
            "Receiving objects: 100% (403/403), 545.61 KiB | 6.99 MiB/s, done.\n",
            "Resolving deltas: 100% (223/223), done.\n"
          ]
        }
      ],
      "source": [
        "!git clone https://github.com/Rudrabha/Wav2Lip.git\n"
      ]
    },
    {
      "cell_type": "code",
      "source": [
        "import torch\n",
        "print(\"CUDA Available:\", torch.cuda.is_available())\n",
        "print(\"CUDA Device:\", torch.cuda.get_device_name(0) if torch.cuda.is_available() else \"No GPU Found\")\n"
      ],
      "metadata": {
        "colab": {
          "base_uri": "https://localhost:8080/"
        },
        "id": "g-5FV8B2hO25",
        "outputId": "8937eee6-7e20-4572-972a-6b31fd2b7088"
      },
      "execution_count": 2,
      "outputs": [
        {
          "output_type": "stream",
          "name": "stdout",
          "text": [
            "CUDA Available: True\n",
            "CUDA Device: Tesla T4\n"
          ]
        }
      ]
    },
    {
      "cell_type": "code",
      "source": [
        "!pip uninstall -y torch torchvision torchaudio\n",
        "!pip install torch torchvision torchaudio --index-url https://download.pytorch.org/whl/cu118\n"
      ],
      "metadata": {
        "colab": {
          "base_uri": "https://localhost:8080/",
          "height": 1000
        },
        "id": "R3NmwgNKswVp",
        "outputId": "f024bb08-84f2-4b28-b2b0-d1feefa5d753"
      },
      "execution_count": 3,
      "outputs": [
        {
          "output_type": "stream",
          "name": "stdout",
          "text": [
            "Found existing installation: torch 2.6.0+cu124\n",
            "Uninstalling torch-2.6.0+cu124:\n",
            "  Successfully uninstalled torch-2.6.0+cu124\n",
            "Found existing installation: torchvision 0.21.0+cu124\n",
            "Uninstalling torchvision-0.21.0+cu124:\n",
            "  Successfully uninstalled torchvision-0.21.0+cu124\n",
            "Found existing installation: torchaudio 2.6.0+cu124\n",
            "Uninstalling torchaudio-2.6.0+cu124:\n",
            "  Successfully uninstalled torchaudio-2.6.0+cu124\n",
            "Looking in indexes: https://download.pytorch.org/whl/cu118\n",
            "Collecting torch\n",
            "  Downloading https://download.pytorch.org/whl/cu118/torch-2.6.0%2Bcu118-cp311-cp311-linux_x86_64.whl.metadata (27 kB)\n",
            "Collecting torchvision\n",
            "  Downloading https://download.pytorch.org/whl/cu118/torchvision-0.21.0%2Bcu118-cp311-cp311-linux_x86_64.whl.metadata (6.1 kB)\n",
            "Collecting torchaudio\n",
            "  Downloading https://download.pytorch.org/whl/cu118/torchaudio-2.6.0%2Bcu118-cp311-cp311-linux_x86_64.whl.metadata (6.6 kB)\n",
            "Requirement already satisfied: filelock in /usr/local/lib/python3.11/dist-packages (from torch) (3.17.0)\n",
            "Requirement already satisfied: typing-extensions>=4.10.0 in /usr/local/lib/python3.11/dist-packages (from torch) (4.12.2)\n",
            "Requirement already satisfied: networkx in /usr/local/lib/python3.11/dist-packages (from torch) (3.4.2)\n",
            "Requirement already satisfied: jinja2 in /usr/local/lib/python3.11/dist-packages (from torch) (3.1.6)\n",
            "Requirement already satisfied: fsspec in /usr/local/lib/python3.11/dist-packages (from torch) (2024.10.0)\n",
            "Collecting nvidia-cuda-nvrtc-cu11==11.8.89 (from torch)\n",
            "  Downloading https://download.pytorch.org/whl/cu118/nvidia_cuda_nvrtc_cu11-11.8.89-py3-none-manylinux1_x86_64.whl (23.2 MB)\n",
            "\u001b[2K     \u001b[90m━━━━━━━━━━━━━━━━━━━━━━━━━━━━━━━━━━━━━━━━\u001b[0m \u001b[32m23.2/23.2 MB\u001b[0m \u001b[31m80.6 MB/s\u001b[0m eta \u001b[36m0:00:00\u001b[0m\n",
            "\u001b[?25hCollecting nvidia-cuda-runtime-cu11==11.8.89 (from torch)\n",
            "  Downloading https://download.pytorch.org/whl/cu118/nvidia_cuda_runtime_cu11-11.8.89-py3-none-manylinux1_x86_64.whl (875 kB)\n",
            "\u001b[2K     \u001b[90m━━━━━━━━━━━━━━━━━━━━━━━━━━━━━━━━━━━━━━━━\u001b[0m \u001b[32m875.6/875.6 kB\u001b[0m \u001b[31m47.8 MB/s\u001b[0m eta \u001b[36m0:00:00\u001b[0m\n",
            "\u001b[?25hCollecting nvidia-cuda-cupti-cu11==11.8.87 (from torch)\n",
            "  Downloading https://download.pytorch.org/whl/cu118/nvidia_cuda_cupti_cu11-11.8.87-py3-none-manylinux1_x86_64.whl (13.1 MB)\n",
            "\u001b[2K     \u001b[90m━━━━━━━━━━━━━━━━━━━━━━━━━━━━━━━━━━━━━━━━\u001b[0m \u001b[32m13.1/13.1 MB\u001b[0m \u001b[31m95.1 MB/s\u001b[0m eta \u001b[36m0:00:00\u001b[0m\n",
            "\u001b[?25hCollecting nvidia-cudnn-cu11==9.1.0.70 (from torch)\n",
            "  Downloading https://download.pytorch.org/whl/cu118/nvidia_cudnn_cu11-9.1.0.70-py3-none-manylinux2014_x86_64.whl (663.9 MB)\n",
            "\u001b[2K     \u001b[90m━━━━━━━━━━━━━━━━━━━━━━━━━━━━━━━━━━━━━━━━\u001b[0m \u001b[32m663.9/663.9 MB\u001b[0m \u001b[31m2.3 MB/s\u001b[0m eta \u001b[36m0:00:00\u001b[0m\n",
            "\u001b[?25hCollecting nvidia-cublas-cu11==11.11.3.6 (from torch)\n",
            "  Downloading https://download.pytorch.org/whl/cu118/nvidia_cublas_cu11-11.11.3.6-py3-none-manylinux1_x86_64.whl (417.9 MB)\n",
            "\u001b[2K     \u001b[90m━━━━━━━━━━━━━━━━━━━━━━━━━━━━━━━━━━━━━━━━\u001b[0m \u001b[32m417.9/417.9 MB\u001b[0m \u001b[31m3.9 MB/s\u001b[0m eta \u001b[36m0:00:00\u001b[0m\n",
            "\u001b[?25hCollecting nvidia-cufft-cu11==10.9.0.58 (from torch)\n",
            "  Downloading https://download.pytorch.org/whl/cu118/nvidia_cufft_cu11-10.9.0.58-py3-none-manylinux1_x86_64.whl (168.4 MB)\n",
            "\u001b[2K     \u001b[90m━━━━━━━━━━━━━━━━━━━━━━━━━━━━━━━━━━━━━━━━\u001b[0m \u001b[32m168.4/168.4 MB\u001b[0m \u001b[31m6.5 MB/s\u001b[0m eta \u001b[36m0:00:00\u001b[0m\n",
            "\u001b[?25hCollecting nvidia-curand-cu11==10.3.0.86 (from torch)\n",
            "  Downloading https://download.pytorch.org/whl/cu118/nvidia_curand_cu11-10.3.0.86-py3-none-manylinux1_x86_64.whl (58.1 MB)\n",
            "\u001b[2K     \u001b[90m━━━━━━━━━━━━━━━━━━━━━━━━━━━━━━━━━━━━━━━━\u001b[0m \u001b[32m58.1/58.1 MB\u001b[0m \u001b[31m13.9 MB/s\u001b[0m eta \u001b[36m0:00:00\u001b[0m\n",
            "\u001b[?25hCollecting nvidia-cusolver-cu11==11.4.1.48 (from torch)\n",
            "  Downloading https://download.pytorch.org/whl/cu118/nvidia_cusolver_cu11-11.4.1.48-py3-none-manylinux1_x86_64.whl (128.2 MB)\n",
            "\u001b[2K     \u001b[90m━━━━━━━━━━━━━━━━━━━━━━━━━━━━━━━━━━━━━━━━\u001b[0m \u001b[32m128.2/128.2 MB\u001b[0m \u001b[31m7.4 MB/s\u001b[0m eta \u001b[36m0:00:00\u001b[0m\n",
            "\u001b[?25hCollecting nvidia-cusparse-cu11==11.7.5.86 (from torch)\n",
            "  Downloading https://download.pytorch.org/whl/cu118/nvidia_cusparse_cu11-11.7.5.86-py3-none-manylinux1_x86_64.whl (204.1 MB)\n",
            "\u001b[2K     \u001b[90m━━━━━━━━━━━━━━━━━━━━━━━━━━━━━━━━━━━━━━━━\u001b[0m \u001b[32m204.1/204.1 MB\u001b[0m \u001b[31m6.3 MB/s\u001b[0m eta \u001b[36m0:00:00\u001b[0m\n",
            "\u001b[?25hCollecting nvidia-nccl-cu11==2.21.5 (from torch)\n",
            "  Downloading https://download.pytorch.org/whl/cu118/nvidia_nccl_cu11-2.21.5-py3-none-manylinux2014_x86_64.whl (147.8 MB)\n",
            "\u001b[2K     \u001b[90m━━━━━━━━━━━━━━━━━━━━━━━━━━━━━━━━━━━━━━━━\u001b[0m \u001b[32m147.8/147.8 MB\u001b[0m \u001b[31m6.8 MB/s\u001b[0m eta \u001b[36m0:00:00\u001b[0m\n",
            "\u001b[?25hCollecting nvidia-nvtx-cu11==11.8.86 (from torch)\n",
            "  Downloading https://download.pytorch.org/whl/cu118/nvidia_nvtx_cu11-11.8.86-py3-none-manylinux1_x86_64.whl (99 kB)\n",
            "\u001b[2K     \u001b[90m━━━━━━━━━━━━━━━━━━━━━━━━━━━━━━━━━━━━━━━━\u001b[0m \u001b[32m99.1/99.1 kB\u001b[0m \u001b[31m9.0 MB/s\u001b[0m eta \u001b[36m0:00:00\u001b[0m\n",
            "\u001b[?25hRequirement already satisfied: triton==3.2.0 in /usr/local/lib/python3.11/dist-packages (from torch) (3.2.0)\n",
            "Requirement already satisfied: sympy==1.13.1 in /usr/local/lib/python3.11/dist-packages (from torch) (1.13.1)\n",
            "Requirement already satisfied: mpmath<1.4,>=1.1.0 in /usr/local/lib/python3.11/dist-packages (from sympy==1.13.1->torch) (1.3.0)\n",
            "Requirement already satisfied: numpy in /usr/local/lib/python3.11/dist-packages (from torchvision) (2.0.2)\n",
            "Requirement already satisfied: pillow!=8.3.*,>=5.3.0 in /usr/local/lib/python3.11/dist-packages (from torchvision) (11.1.0)\n",
            "Requirement already satisfied: MarkupSafe>=2.0 in /usr/local/lib/python3.11/dist-packages (from jinja2->torch) (3.0.2)\n",
            "Downloading https://download.pytorch.org/whl/cu118/torch-2.6.0%2Bcu118-cp311-cp311-linux_x86_64.whl (848.7 MB)\n",
            "\u001b[2K   \u001b[90m━━━━━━━━━━━━━━━━━━━━━━━━━━━━━━━━━━━━━━━━\u001b[0m \u001b[32m848.7/848.7 MB\u001b[0m \u001b[31m2.4 MB/s\u001b[0m eta \u001b[36m0:00:00\u001b[0m\n",
            "\u001b[?25hDownloading https://download.pytorch.org/whl/cu118/torchvision-0.21.0%2Bcu118-cp311-cp311-linux_x86_64.whl (6.5 MB)\n",
            "\u001b[2K   \u001b[90m━━━━━━━━━━━━━━━━━━━━━━━━━━━━━━━━━━━━━━━━\u001b[0m \u001b[32m6.5/6.5 MB\u001b[0m \u001b[31m63.3 MB/s\u001b[0m eta \u001b[36m0:00:00\u001b[0m\n",
            "\u001b[?25hDownloading https://download.pytorch.org/whl/cu118/torchaudio-2.6.0%2Bcu118-cp311-cp311-linux_x86_64.whl (3.3 MB)\n",
            "\u001b[2K   \u001b[90m━━━━━━━━━━━━━━━━━━━━━━━━━━━━━━━━━━━━━━━━\u001b[0m \u001b[32m3.3/3.3 MB\u001b[0m \u001b[31m85.4 MB/s\u001b[0m eta \u001b[36m0:00:00\u001b[0m\n",
            "\u001b[?25hInstalling collected packages: nvidia-nvtx-cu11, nvidia-nccl-cu11, nvidia-cusparse-cu11, nvidia-curand-cu11, nvidia-cufft-cu11, nvidia-cuda-runtime-cu11, nvidia-cuda-nvrtc-cu11, nvidia-cuda-cupti-cu11, nvidia-cublas-cu11, nvidia-cusolver-cu11, nvidia-cudnn-cu11, torch, torchvision, torchaudio\n",
            "Successfully installed nvidia-cublas-cu11-11.11.3.6 nvidia-cuda-cupti-cu11-11.8.87 nvidia-cuda-nvrtc-cu11-11.8.89 nvidia-cuda-runtime-cu11-11.8.89 nvidia-cudnn-cu11-9.1.0.70 nvidia-cufft-cu11-10.9.0.58 nvidia-curand-cu11-10.3.0.86 nvidia-cusolver-cu11-11.4.1.48 nvidia-cusparse-cu11-11.7.5.86 nvidia-nccl-cu11-2.21.5 nvidia-nvtx-cu11-11.8.86 torch-2.6.0+cu118 torchaudio-2.6.0+cu118 torchvision-0.21.0+cu118\n"
          ]
        },
        {
          "output_type": "display_data",
          "data": {
            "application/vnd.colab-display-data+json": {
              "pip_warning": {
                "packages": [
                  "torch",
                  "torchgen"
                ]
              },
              "id": "0d5fc994ef1e4b009c89c7f180613138"
            }
          },
          "metadata": {}
        }
      ]
    },
    {
      "cell_type": "code",
      "source": [
        "import os\n",
        "print(os.getcwd())"
      ],
      "metadata": {
        "colab": {
          "base_uri": "https://localhost:8080/"
        },
        "id": "CiuYuGqXRmPa",
        "outputId": "19670d6e-dc01-408d-e6ba-4215f7a765af"
      },
      "execution_count": 3,
      "outputs": [
        {
          "output_type": "stream",
          "name": "stdout",
          "text": [
            "/content/Wav2Lip\n"
          ]
        }
      ]
    },
    {
      "cell_type": "code",
      "source": [
        "os.chdir('Wav2Lip')"
      ],
      "metadata": {
        "id": "wfjapdlSRySA"
      },
      "execution_count": 2,
      "outputs": []
    },
    {
      "cell_type": "code",
      "source": [
        "!pip install -r requirements.txt"
      ],
      "metadata": {
        "colab": {
          "base_uri": "https://localhost:8080/"
        },
        "id": "5Pj82XhRR13u",
        "outputId": "96779225-eead-49d3-ebb2-4b60a237d0ba"
      },
      "execution_count": 4,
      "outputs": [
        {
          "output_type": "stream",
          "name": "stdout",
          "text": [
            "Collecting librosa==0.7.0 (from -r requirements.txt (line 1))\n",
            "  Downloading librosa-0.7.0.tar.gz (1.6 MB)\n",
            "\u001b[?25l     \u001b[90m━━━━━━━━━━━━━━━━━━━━━━━━━━━━━━━━━━━━━━━━\u001b[0m \u001b[32m0.0/1.6 MB\u001b[0m \u001b[31m?\u001b[0m eta \u001b[36m-:--:--\u001b[0m\r\u001b[2K     \u001b[91m━━━━\u001b[0m\u001b[90m╺\u001b[0m\u001b[90m━━━━━━━━━━━━━━━━━━━━━━━━━━━━━━━━━━━\u001b[0m \u001b[32m0.2/1.6 MB\u001b[0m \u001b[31m5.0 MB/s\u001b[0m eta \u001b[36m0:00:01\u001b[0m\r\u001b[2K     \u001b[91m━━━━━━━━━━━━━━━━━━━━━━━━━━━━━━━━━━━━━\u001b[0m\u001b[90m╺\u001b[0m\u001b[90m━━\u001b[0m \u001b[32m1.5/1.6 MB\u001b[0m \u001b[31m21.3 MB/s\u001b[0m eta \u001b[36m0:00:01\u001b[0m\r\u001b[2K     \u001b[90m━━━━━━━━━━━━━━━━━━━━━━━━━━━━━━━━━━━━━━━━\u001b[0m \u001b[32m1.6/1.6 MB\u001b[0m \u001b[31m18.2 MB/s\u001b[0m eta \u001b[36m0:00:00\u001b[0m\n",
            "\u001b[?25h  Preparing metadata (setup.py) ... \u001b[?25l\u001b[?25hdone\n",
            "Collecting numpy==1.17.1 (from -r requirements.txt (line 2))\n",
            "  Downloading numpy-1.17.1.zip (6.5 MB)\n",
            "\u001b[2K     \u001b[90m━━━━━━━━━━━━━━━━━━━━━━━━━━━━━━━━━━━━━━━━\u001b[0m \u001b[32m6.5/6.5 MB\u001b[0m \u001b[31m75.6 MB/s\u001b[0m eta \u001b[36m0:00:00\u001b[0m\n",
            "\u001b[?25h  Preparing metadata (setup.py) ... \u001b[?25l\u001b[?25hdone\n",
            "Requirement already satisfied: opencv-contrib-python>=4.2.0.34 in /usr/local/lib/python3.11/dist-packages (from -r requirements.txt (line 3)) (4.11.0.86)\n",
            "\u001b[31mERROR: Ignored the following yanked versions: 3.4.11.39, 3.4.17.61, 4.4.0.42, 4.4.0.44, 4.5.4.58, 4.5.5.62, 4.7.0.68\u001b[0m\u001b[31m\n",
            "\u001b[0m\u001b[31mERROR: Ignored the following versions that require a different python version: 1.21.2 Requires-Python >=3.7,<3.11; 1.21.3 Requires-Python >=3.7,<3.11; 1.21.4 Requires-Python >=3.7,<3.11; 1.21.5 Requires-Python >=3.7,<3.11; 1.21.6 Requires-Python >=3.7,<3.11\u001b[0m\u001b[31m\n",
            "\u001b[0m\u001b[31mERROR: Could not find a version that satisfies the requirement opencv-python==4.1.0.25 (from versions: 3.4.0.14, 3.4.10.37, 3.4.11.41, 3.4.11.43, 3.4.11.45, 3.4.13.47, 3.4.15.55, 3.4.16.57, 3.4.16.59, 3.4.17.63, 3.4.18.65, 4.3.0.38, 4.4.0.40, 4.4.0.46, 4.5.1.48, 4.5.3.56, 4.5.4.60, 4.5.5.64, 4.6.0.66, 4.7.0.72, 4.8.0.74, 4.8.0.76, 4.8.1.78, 4.9.0.80, 4.10.0.82, 4.10.0.84, 4.11.0.86)\u001b[0m\u001b[31m\n",
            "\u001b[0m\u001b[31mERROR: No matching distribution found for opencv-python==4.1.0.25\u001b[0m\u001b[31m\n",
            "\u001b[0m"
          ]
        }
      ]
    },
    {
      "cell_type": "code",
      "source": [
        "!wget \"https://github.com/Rudrabha/Wav2Lip/releases/download/v1.0/wav2lip_gan.pth\" -O \"checkpoints/wav2lip_gan.pth\"\n"
      ],
      "metadata": {
        "colab": {
          "base_uri": "https://localhost:8080/"
        },
        "id": "uiAYn8T_R5o9",
        "outputId": "8ccdff08-8b59-4efb-fe4a-dd6cb84a1553"
      },
      "execution_count": 6,
      "outputs": [
        {
          "output_type": "stream",
          "name": "stdout",
          "text": [
            "--2025-03-18 08:04:32--  https://github.com/Rudrabha/Wav2Lip/releases/download/v1.0/wav2lip_gan.pth\n",
            "Resolving github.com (github.com)... 140.82.121.4\n",
            "Connecting to github.com (github.com)|140.82.121.4|:443... connected.\n",
            "HTTP request sent, awaiting response... 404 Not Found\n",
            "2025-03-18 08:04:32 ERROR 404: Not Found.\n",
            "\n"
          ]
        }
      ]
    },
    {
      "cell_type": "code",
      "source": [
        "print(os.path.getsize('/content/Wav2Lip/checkpoints/wav2lip_gan.pth'))"
      ],
      "metadata": {
        "colab": {
          "base_uri": "https://localhost:8080/"
        },
        "id": "8Pva-O_zVNQz",
        "outputId": "2d19fe61-f0f9-45ea-d6d7-ac0cdbac5b8b"
      },
      "execution_count": 6,
      "outputs": [
        {
          "output_type": "stream",
          "name": "stdout",
          "text": [
            "435801865\n"
          ]
        }
      ]
    },
    {
      "cell_type": "code",
      "source": [
        "!pip install librosa==0.8.1"
      ],
      "metadata": {
        "colab": {
          "base_uri": "https://localhost:8080/"
        },
        "id": "SAraA4mXY5mo",
        "outputId": "31ed47cb-6cd8-41d3-aa5f-d609e04f7818"
      },
      "execution_count": 5,
      "outputs": [
        {
          "output_type": "stream",
          "name": "stdout",
          "text": [
            "Collecting librosa==0.8.1\n",
            "  Downloading librosa-0.8.1-py3-none-any.whl.metadata (6.8 kB)\n",
            "Requirement already satisfied: audioread>=2.0.0 in /usr/local/lib/python3.11/dist-packages (from librosa==0.8.1) (3.0.1)\n",
            "Requirement already satisfied: numpy>=1.15.0 in /usr/local/lib/python3.11/dist-packages (from librosa==0.8.1) (2.0.2)\n",
            "Requirement already satisfied: scipy>=1.0.0 in /usr/local/lib/python3.11/dist-packages (from librosa==0.8.1) (1.14.1)\n",
            "Requirement already satisfied: scikit-learn!=0.19.0,>=0.14.0 in /usr/local/lib/python3.11/dist-packages (from librosa==0.8.1) (1.6.1)\n",
            "Requirement already satisfied: joblib>=0.14 in /usr/local/lib/python3.11/dist-packages (from librosa==0.8.1) (1.4.2)\n",
            "Requirement already satisfied: decorator>=3.0.0 in /usr/local/lib/python3.11/dist-packages (from librosa==0.8.1) (4.4.2)\n",
            "Collecting resampy>=0.2.2 (from librosa==0.8.1)\n",
            "  Downloading resampy-0.4.3-py3-none-any.whl.metadata (3.0 kB)\n",
            "Requirement already satisfied: numba>=0.43.0 in /usr/local/lib/python3.11/dist-packages (from librosa==0.8.1) (0.60.0)\n",
            "Requirement already satisfied: soundfile>=0.10.2 in /usr/local/lib/python3.11/dist-packages (from librosa==0.8.1) (0.13.1)\n",
            "Requirement already satisfied: pooch>=1.0 in /usr/local/lib/python3.11/dist-packages (from librosa==0.8.1) (1.8.2)\n",
            "Requirement already satisfied: packaging>=20.0 in /usr/local/lib/python3.11/dist-packages (from librosa==0.8.1) (24.2)\n",
            "Requirement already satisfied: llvmlite<0.44,>=0.43.0dev0 in /usr/local/lib/python3.11/dist-packages (from numba>=0.43.0->librosa==0.8.1) (0.43.0)\n",
            "Requirement already satisfied: platformdirs>=2.5.0 in /usr/local/lib/python3.11/dist-packages (from pooch>=1.0->librosa==0.8.1) (4.3.6)\n",
            "Requirement already satisfied: requests>=2.19.0 in /usr/local/lib/python3.11/dist-packages (from pooch>=1.0->librosa==0.8.1) (2.32.3)\n",
            "Requirement already satisfied: threadpoolctl>=3.1.0 in /usr/local/lib/python3.11/dist-packages (from scikit-learn!=0.19.0,>=0.14.0->librosa==0.8.1) (3.6.0)\n",
            "Requirement already satisfied: cffi>=1.0 in /usr/local/lib/python3.11/dist-packages (from soundfile>=0.10.2->librosa==0.8.1) (1.17.1)\n",
            "Requirement already satisfied: pycparser in /usr/local/lib/python3.11/dist-packages (from cffi>=1.0->soundfile>=0.10.2->librosa==0.8.1) (2.22)\n",
            "Requirement already satisfied: charset-normalizer<4,>=2 in /usr/local/lib/python3.11/dist-packages (from requests>=2.19.0->pooch>=1.0->librosa==0.8.1) (3.4.1)\n",
            "Requirement already satisfied: idna<4,>=2.5 in /usr/local/lib/python3.11/dist-packages (from requests>=2.19.0->pooch>=1.0->librosa==0.8.1) (3.10)\n",
            "Requirement already satisfied: urllib3<3,>=1.21.1 in /usr/local/lib/python3.11/dist-packages (from requests>=2.19.0->pooch>=1.0->librosa==0.8.1) (2.3.0)\n",
            "Requirement already satisfied: certifi>=2017.4.17 in /usr/local/lib/python3.11/dist-packages (from requests>=2.19.0->pooch>=1.0->librosa==0.8.1) (2025.1.31)\n",
            "Downloading librosa-0.8.1-py3-none-any.whl (203 kB)\n",
            "\u001b[2K   \u001b[90m━━━━━━━━━━━━━━━━━━━━━━━━━━━━━━━━━━━━━━━━\u001b[0m \u001b[32m203.8/203.8 kB\u001b[0m \u001b[31m4.4 MB/s\u001b[0m eta \u001b[36m0:00:00\u001b[0m\n",
            "\u001b[?25hDownloading resampy-0.4.3-py3-none-any.whl (3.1 MB)\n",
            "\u001b[2K   \u001b[90m━━━━━━━━━━━━━━━━━━━━━━━━━━━━━━━━━━━━━━━━\u001b[0m \u001b[32m3.1/3.1 MB\u001b[0m \u001b[31m47.7 MB/s\u001b[0m eta \u001b[36m0:00:00\u001b[0m\n",
            "\u001b[?25hInstalling collected packages: resampy, librosa\n",
            "  Attempting uninstall: librosa\n",
            "    Found existing installation: librosa 0.10.2.post1\n",
            "    Uninstalling librosa-0.10.2.post1:\n",
            "      Successfully uninstalled librosa-0.10.2.post1\n",
            "Successfully installed librosa-0.8.1 resampy-0.4.3\n"
          ]
        }
      ]
    },
    {
      "cell_type": "code",
      "source": [
        "!python inference.py --checkpoint_path checkpoints/wav2lip_gan.pth --face avatar_vedio.mp4 --audio audio_trimmed.wav --fps 25\n"
      ],
      "metadata": {
        "colab": {
          "base_uri": "https://localhost:8080/"
        },
        "id": "BdrDZ_81SGYo",
        "outputId": "d34cb891-4d2f-4f82-c581-09b0444f9e0e"
      },
      "execution_count": 24,
      "outputs": [
        {
          "output_type": "stream",
          "name": "stdout",
          "text": [
            "Using cpu for inference.\n",
            "Reading video frames...\n",
            "Number of frames available for inference: 253\n",
            "(80, 801)\n",
            "Length of mel chunks: 237\n",
            "  0% 0/2 [00:00<?, ?it/s]\n",
            "  0% 0/15 [00:00<?, ?it/s]\u001b[A^C\n"
          ]
        }
      ]
    },
    {
      "cell_type": "code",
      "source": [
        "!ffmpeg -i sample.wav -t 10 audio_trimmed.wav\n"
      ],
      "metadata": {
        "colab": {
          "base_uri": "https://localhost:8080/"
        },
        "id": "0X0kWAdBVRtD",
        "outputId": "2bb84b6d-c724-41bc-e327-b6c98bb3c151"
      },
      "execution_count": 7,
      "outputs": [
        {
          "output_type": "stream",
          "name": "stdout",
          "text": [
            "ffmpeg version 4.4.2-0ubuntu0.22.04.1 Copyright (c) 2000-2021 the FFmpeg developers\n",
            "  built with gcc 11 (Ubuntu 11.2.0-19ubuntu1)\n",
            "  configuration: --prefix=/usr --extra-version=0ubuntu0.22.04.1 --toolchain=hardened --libdir=/usr/lib/x86_64-linux-gnu --incdir=/usr/include/x86_64-linux-gnu --arch=amd64 --enable-gpl --disable-stripping --enable-gnutls --enable-ladspa --enable-libaom --enable-libass --enable-libbluray --enable-libbs2b --enable-libcaca --enable-libcdio --enable-libcodec2 --enable-libdav1d --enable-libflite --enable-libfontconfig --enable-libfreetype --enable-libfribidi --enable-libgme --enable-libgsm --enable-libjack --enable-libmp3lame --enable-libmysofa --enable-libopenjpeg --enable-libopenmpt --enable-libopus --enable-libpulse --enable-librabbitmq --enable-librubberband --enable-libshine --enable-libsnappy --enable-libsoxr --enable-libspeex --enable-libsrt --enable-libssh --enable-libtheora --enable-libtwolame --enable-libvidstab --enable-libvorbis --enable-libvpx --enable-libwebp --enable-libx265 --enable-libxml2 --enable-libxvid --enable-libzimg --enable-libzmq --enable-libzvbi --enable-lv2 --enable-omx --enable-openal --enable-opencl --enable-opengl --enable-sdl2 --enable-pocketsphinx --enable-librsvg --enable-libmfx --enable-libdc1394 --enable-libdrm --enable-libiec61883 --enable-chromaprint --enable-frei0r --enable-libx264 --enable-shared\n",
            "  libavutil      56. 70.100 / 56. 70.100\n",
            "  libavcodec     58.134.100 / 58.134.100\n",
            "  libavformat    58. 76.100 / 58. 76.100\n",
            "  libavdevice    58. 13.100 / 58. 13.100\n",
            "  libavfilter     7.110.100 /  7.110.100\n",
            "  libswscale      5.  9.100 /  5.  9.100\n",
            "  libswresample   3.  9.100 /  3.  9.100\n",
            "  libpostproc    55.  9.100 / 55.  9.100\n",
            "\u001b[0;33mGuessed Channel Layout for Input Stream #0.0 : mono\n",
            "\u001b[0mInput #0, wav, from 'sample.wav':\n",
            "  Duration: 00:00:20.11, bitrate: 384 kb/s\n",
            "  Stream #0:0: Audio: pcm_s16le ([1][0][0][0] / 0x0001), 24000 Hz, mono, s16, 384 kb/s\n",
            "Stream mapping:\n",
            "  Stream #0:0 -> #0:0 (pcm_s16le (native) -> pcm_s16le (native))\n",
            "Press [q] to stop, [?] for help\n",
            "Output #0, wav, to 'audio_trimmed.wav':\n",
            "  Metadata:\n",
            "    ISFT            : Lavf58.76.100\n",
            "  Stream #0:0: Audio: pcm_s16le ([1][0][0][0] / 0x0001), 24000 Hz, mono, s16, 384 kb/s\n",
            "    Metadata:\n",
            "      encoder         : Lavc58.134.100 pcm_s16le\n",
            "size=       4kB time=00:00:00.00 bitrate=N/A speed=N/A    \rsize=     469kB time=00:00:09.98 bitrate= 384.7kbits/s speed= 610x    \n",
            "video:0kB audio:469kB subtitle:0kB other streams:0kB global headers:0kB muxing overhead: 0.016250%\n"
          ]
        }
      ]
    },
    {
      "cell_type": "code",
      "source": [
        "!ffmpeg -i indian_avatar_clip.mp4 -vf \"scale=720:480\" video_resized.mp4\n"
      ],
      "metadata": {
        "colab": {
          "base_uri": "https://localhost:8080/"
        },
        "id": "xdZrDzzMewet",
        "outputId": "629bb871-97e6-45cf-ef6f-454d5c7727bd"
      },
      "execution_count": 8,
      "outputs": [
        {
          "output_type": "stream",
          "name": "stdout",
          "text": [
            "ffmpeg version 4.4.2-0ubuntu0.22.04.1 Copyright (c) 2000-2021 the FFmpeg developers\n",
            "  built with gcc 11 (Ubuntu 11.2.0-19ubuntu1)\n",
            "  configuration: --prefix=/usr --extra-version=0ubuntu0.22.04.1 --toolchain=hardened --libdir=/usr/lib/x86_64-linux-gnu --incdir=/usr/include/x86_64-linux-gnu --arch=amd64 --enable-gpl --disable-stripping --enable-gnutls --enable-ladspa --enable-libaom --enable-libass --enable-libbluray --enable-libbs2b --enable-libcaca --enable-libcdio --enable-libcodec2 --enable-libdav1d --enable-libflite --enable-libfontconfig --enable-libfreetype --enable-libfribidi --enable-libgme --enable-libgsm --enable-libjack --enable-libmp3lame --enable-libmysofa --enable-libopenjpeg --enable-libopenmpt --enable-libopus --enable-libpulse --enable-librabbitmq --enable-librubberband --enable-libshine --enable-libsnappy --enable-libsoxr --enable-libspeex --enable-libsrt --enable-libssh --enable-libtheora --enable-libtwolame --enable-libvidstab --enable-libvorbis --enable-libvpx --enable-libwebp --enable-libx265 --enable-libxml2 --enable-libxvid --enable-libzimg --enable-libzmq --enable-libzvbi --enable-lv2 --enable-omx --enable-openal --enable-opencl --enable-opengl --enable-sdl2 --enable-pocketsphinx --enable-librsvg --enable-libmfx --enable-libdc1394 --enable-libdrm --enable-libiec61883 --enable-chromaprint --enable-frei0r --enable-libx264 --enable-shared\n",
            "  libavutil      56. 70.100 / 56. 70.100\n",
            "  libavcodec     58.134.100 / 58.134.100\n",
            "  libavformat    58. 76.100 / 58. 76.100\n",
            "  libavdevice    58. 13.100 / 58. 13.100\n",
            "  libavfilter     7.110.100 /  7.110.100\n",
            "  libswscale      5.  9.100 /  5.  9.100\n",
            "  libswresample   3.  9.100 /  3.  9.100\n",
            "  libpostproc    55.  9.100 / 55.  9.100\n",
            "Input #0, mov,mp4,m4a,3gp,3g2,mj2, from 'indian_avatar_clip.mp4':\n",
            "  Metadata:\n",
            "    major_brand     : isom\n",
            "    minor_version   : 512\n",
            "    compatible_brands: isomiso2avc1mp41\n",
            "    encoder         : Lavf58.29.100\n",
            "  Duration: 00:00:10.54, start: 0.000000, bitrate: 2073 kb/s\n",
            "  Stream #0:0(und): Video: h264 (High) (avc1 / 0x31637661), yuv420p, 768x1280, 2060 kb/s, 24 fps, 24 tbr, 12288 tbn, 48 tbc (default)\n",
            "    Metadata:\n",
            "      handler_name    : VideoHandler\n",
            "      vendor_id       : [0][0][0][0]\n",
            "Stream mapping:\n",
            "  Stream #0:0 -> #0:0 (h264 (native) -> h264 (libx264))\n",
            "Press [q] to stop, [?] for help\n",
            "\u001b[1;36m[libx264 @ 0x59b94808bf00] \u001b[0musing cpu capabilities: MMX2 SSE2Fast SSSE3 SSE4.2 AVX FMA3 BMI2 AVX2\n",
            "\u001b[1;36m[libx264 @ 0x59b94808bf00] \u001b[0mprofile High, level 3.0, 4:2:0, 8-bit\n",
            "\u001b[1;36m[libx264 @ 0x59b94808bf00] \u001b[0m264 - core 163 r3060 5db6aa6 - H.264/MPEG-4 AVC codec - Copyleft 2003-2021 - http://www.videolan.org/x264.html - options: cabac=1 ref=3 deblock=1:0:0 analyse=0x3:0x113 me=hex subme=7 psy=1 psy_rd=1.00:0.00 mixed_ref=1 me_range=16 chroma_me=1 trellis=1 8x8dct=1 cqm=0 deadzone=21,11 fast_pskip=1 chroma_qp_offset=-2 threads=3 lookahead_threads=1 sliced_threads=0 nr=0 decimate=1 interlaced=0 bluray_compat=0 constrained_intra=0 bframes=3 b_pyramid=2 b_adapt=1 b_bias=0 direct=1 weightb=1 open_gop=0 weightp=2 keyint=250 keyint_min=24 scenecut=40 intra_refresh=0 rc_lookahead=40 rc=crf mbtree=1 crf=23.0 qcomp=0.60 qpmin=0 qpmax=69 qpstep=4 ip_ratio=1.40 aq=1:1.00\n",
            "Output #0, mp4, to 'video_resized.mp4':\n",
            "  Metadata:\n",
            "    major_brand     : isom\n",
            "    minor_version   : 512\n",
            "    compatible_brands: isomiso2avc1mp41\n",
            "    encoder         : Lavf58.76.100\n",
            "  Stream #0:0(und): Video: h264 (avc1 / 0x31637661), yuv420p(tv, progressive), 720x480, q=2-31, 24 fps, 12288 tbn (default)\n",
            "    Metadata:\n",
            "      handler_name    : VideoHandler\n",
            "      vendor_id       : [0][0][0][0]\n",
            "      encoder         : Lavc58.134.100 libx264\n",
            "    Side data:\n",
            "      cpb: bitrate max/min/avg: 0/0/0 buffer size: 0 vbv_delay: N/A\n",
            "frame=  253 fps= 50 q=-1.0 Lsize=     519kB time=00:00:10.41 bitrate= 408.1kbits/s speed=2.04x    \n",
            "video:515kB audio:0kB subtitle:0kB other streams:0kB global headers:0kB muxing overhead: 0.737552%\n",
            "\u001b[1;36m[libx264 @ 0x59b94808bf00] \u001b[0mframe I:2     Avg QP:23.38  size: 24235\n",
            "\u001b[1;36m[libx264 @ 0x59b94808bf00] \u001b[0mframe P:65    Avg QP:22.45  size:  5606\n",
            "\u001b[1;36m[libx264 @ 0x59b94808bf00] \u001b[0mframe B:186   Avg QP:26.47  size:   613\n",
            "\u001b[1;36m[libx264 @ 0x59b94808bf00] \u001b[0mconsecutive B-frames:  1.2%  2.4%  0.0% 96.4%\n",
            "\u001b[1;36m[libx264 @ 0x59b94808bf00] \u001b[0mmb I  I16..4: 18.5% 56.2% 25.3%\n",
            "\u001b[1;36m[libx264 @ 0x59b94808bf00] \u001b[0mmb P  I16..4:  1.1%  0.9%  0.2%  P16..4: 45.8% 16.2%  8.8%  0.0%  0.0%    skip:27.0%\n",
            "\u001b[1;36m[libx264 @ 0x59b94808bf00] \u001b[0mmb B  I16..4:  0.0%  0.1%  0.0%  B16..8: 32.2%  0.9%  0.1%  direct: 0.2%  skip:66.5%  L0:42.9% L1:53.3% BI: 3.8%\n",
            "\u001b[1;36m[libx264 @ 0x59b94808bf00] \u001b[0m8x8 transform intra:50.3% inter:74.2%\n",
            "\u001b[1;36m[libx264 @ 0x59b94808bf00] \u001b[0mcoded y,uvDC,uvAC intra: 54.3% 69.0% 37.9% inter: 6.5% 9.1% 1.1%\n",
            "\u001b[1;36m[libx264 @ 0x59b94808bf00] \u001b[0mi16 v,h,dc,p:  4% 64%  1% 31%\n",
            "\u001b[1;36m[libx264 @ 0x59b94808bf00] \u001b[0mi8 v,h,dc,ddl,ddr,vr,hd,vl,hu: 11% 36% 13%  5%  6%  4% 11%  5%  8%\n",
            "\u001b[1;36m[libx264 @ 0x59b94808bf00] \u001b[0mi4 v,h,dc,ddl,ddr,vr,hd,vl,hu: 11% 40% 11%  4%  6%  5% 11%  4%  7%\n",
            "\u001b[1;36m[libx264 @ 0x59b94808bf00] \u001b[0mi8c dc,h,v,p: 33% 49% 11%  7%\n",
            "\u001b[1;36m[libx264 @ 0x59b94808bf00] \u001b[0mWeighted P-Frames: Y:3.1% UV:0.0%\n",
            "\u001b[1;36m[libx264 @ 0x59b94808bf00] \u001b[0mref P L0: 55.1% 13.1% 22.1%  9.8%\n",
            "\u001b[1;36m[libx264 @ 0x59b94808bf00] \u001b[0mref B L0: 91.8%  5.1%  3.1%\n",
            "\u001b[1;36m[libx264 @ 0x59b94808bf00] \u001b[0mref B L1: 98.0%  2.0%\n",
            "\u001b[1;36m[libx264 @ 0x59b94808bf00] \u001b[0mkb/s:399.84\n"
          ]
        }
      ]
    },
    {
      "cell_type": "code",
      "source": [],
      "metadata": {
        "id": "lDd6otV3vb6o"
      },
      "execution_count": 8,
      "outputs": []
    },
    {
      "cell_type": "code",
      "source": [
        "!python inference.py --checkpoint_path checkpoints/wav2lip_gan.pth --face video_resized.mp4 --audio audio_trimmed.wav --fps 25\n"
      ],
      "metadata": {
        "colab": {
          "base_uri": "https://localhost:8080/"
        },
        "id": "h_rb5tXphI87",
        "outputId": "08e5607e-ca38-456e-8bfa-f3e559615b00"
      },
      "execution_count": 10,
      "outputs": [
        {
          "output_type": "stream",
          "name": "stdout",
          "text": [
            "Using cuda for inference.\n",
            "Reading video frames...\n",
            "Number of frames available for inference: 253\n",
            "(80, 801)\n",
            "Length of mel chunks: 237\n",
            "  0% 0/2 [00:00<?, ?it/s]Downloading: \"https://www.adrianbulat.com/downloads/python-fan/s3fd-619a316812.pth\" to /root/.cache/torch/hub/checkpoints/s3fd-619a316812.pth\n",
            "\n",
            "  0% 0.00/85.7M [00:00<?, ?B/s]\u001b[A\n",
            "  0% 128k/85.7M [00:00<05:06, 293kB/s]\u001b[A\n",
            "  0% 256k/85.7M [00:00<03:06, 481kB/s]\u001b[A\n",
            "  1% 512k/85.7M [00:00<01:41, 883kB/s]\u001b[A\n",
            "  1% 1.00M/85.7M [00:00<00:52, 1.70MB/s]\u001b[A\n",
            "  2% 2.00M/85.7M [00:01<00:26, 3.33MB/s]\u001b[A\n",
            "  5% 4.00M/85.7M [00:01<00:12, 6.60MB/s]\u001b[A\n",
            "  7% 6.25M/85.7M [00:01<00:08, 9.31MB/s]\u001b[A\n",
            "  8% 7.25M/85.7M [00:01<00:09, 8.67MB/s]\u001b[A\n",
            " 11% 9.50M/85.7M [00:01<00:07, 10.8MB/s]\u001b[A\n",
            " 15% 13.2M/85.7M [00:01<00:04, 15.3MB/s]\u001b[A\n",
            " 17% 14.8M/85.7M [00:01<00:05, 13.9MB/s]\u001b[A\n",
            " 19% 16.4M/85.7M [00:02<00:05, 13.2MB/s]\u001b[A\n",
            " 21% 17.8M/85.7M [00:02<00:05, 12.0MB/s]\u001b[A\n",
            " 22% 19.1M/85.7M [00:02<00:06, 11.4MB/s]\u001b[A\n",
            " 25% 21.2M/85.7M [00:02<00:05, 12.5MB/s]\u001b[A\n",
            " 27% 23.2M/85.7M [00:02<00:05, 12.9MB/s]\u001b[A\n",
            " 29% 25.2M/85.7M [00:02<00:04, 13.3MB/s]\u001b[A\n",
            " 32% 27.4M/85.7M [00:02<00:04, 13.8MB/s]\u001b[A\n",
            " 34% 29.4M/85.7M [00:03<00:04, 13.8MB/s]\u001b[A\n",
            " 37% 31.5M/85.7M [00:03<00:04, 14.2MB/s]\u001b[A\n",
            " 39% 33.6M/85.7M [00:03<00:03, 14.4MB/s]\u001b[A\n",
            " 42% 35.8M/85.7M [00:03<00:03, 14.5MB/s]\u001b[A\n",
            " 44% 37.9M/85.7M [00:03<00:03, 14.6MB/s]\u001b[A\n",
            " 47% 40.0M/85.7M [00:03<00:03, 14.7MB/s]\u001b[A\n",
            " 49% 42.1M/85.7M [00:04<00:03, 14.8MB/s]\u001b[A\n",
            " 52% 44.4M/85.7M [00:04<00:02, 15.1MB/s]\u001b[A\n",
            " 54% 46.5M/85.7M [00:04<00:02, 15.1MB/s]\u001b[A\n",
            " 57% 48.8M/85.7M [00:04<00:02, 15.3MB/s]\u001b[A\n",
            " 60% 51.0M/85.7M [00:04<00:02, 15.4MB/s]\u001b[A\n",
            " 62% 53.2M/85.7M [00:04<00:02, 15.5MB/s]\u001b[A\n",
            " 65% 55.5M/85.7M [00:04<00:02, 15.6MB/s]\u001b[A\n",
            " 67% 57.8M/85.7M [00:05<00:01, 15.7MB/s]\u001b[A\n",
            " 70% 60.0M/85.7M [00:05<00:01, 15.7MB/s]\u001b[A\n",
            " 73% 62.2M/85.7M [00:05<00:01, 15.8MB/s]\u001b[A\n",
            " 75% 64.5M/85.7M [00:05<00:01, 15.8MB/s]\u001b[A\n",
            " 78% 66.9M/85.7M [00:05<00:01, 16.0MB/s]\u001b[A\n",
            " 81% 69.1M/85.7M [00:05<00:01, 16.0MB/s]\u001b[A\n",
            " 83% 71.5M/85.7M [00:05<00:00, 16.1MB/s]\u001b[A\n",
            " 89% 76.0M/85.7M [00:06<00:00, 12.8MB/s]\n",
            "  0% 0/2 [00:07<?, ?it/s]\n",
            "Traceback (most recent call last):\n",
            "  File \"/content/Wav2Lip/inference.py\", line 280, in <module>\n",
            "    main()\n",
            "  File \"/content/Wav2Lip/inference.py\", line 249, in main\n",
            "    for i, (img_batch, mel_batch, frames, coords) in enumerate(tqdm(gen, \n",
            "    ^^^^^^^^^^^^^^^^^^^^^^^^^^^^^^^^^^^^^^^^^^^^^^^^^^^^^^^^^^^^^^^^^^^^\n",
            "  File \"/usr/local/lib/python3.11/dist-packages/tqdm/std.py\", line 1181, in __iter__\n",
            "    for obj in iterable:\n",
            "  File \"/content/Wav2Lip/inference.py\", line 113, in datagen\n",
            "    face_det_results = face_detect(frames) # BGR2RGB for CNN face detection\n",
            "                       ^^^^^^^^^^^^^^^^^^^\n",
            "  File \"/content/Wav2Lip/inference.py\", line 69, in face_detect\n",
            "    detector = face_detection.FaceAlignment(face_detection.LandmarksType._2D, \n",
            "               ^^^^^^^^^^^^^^^^^^^^^^^^^^^^^^^^^^^^^^^^^^^^^^^^^^^^^^^^^^^^^^\n",
            "  File \"/content/Wav2Lip/face_detection/api.py\", line 62, in __init__\n",
            "    self.face_detector = face_detector_module.FaceDetector(device=device, verbose=verbose)\n",
            "                         ^^^^^^^^^^^^^^^^^^^^^^^^^^^^^^^^^^^^^^^^^^^^^^^^^^^^^^^^^^^^^^^^^\n",
            "  File \"/content/Wav2Lip/face_detection/detection/sfd/sfd_detector.py\", line 22, in __init__\n",
            "    model_weights = load_url(models_urls['s3fd'])\n",
            "                    ^^^^^^^^^^^^^^^^^^^^^^^^^^^^^\n",
            "  File \"/usr/local/lib/python3.11/dist-packages/torch/hub.py\", line 867, in load_state_dict_from_url\n",
            "    download_url_to_file(url, cached_file, hash_prefix, progress=progress)\n",
            "  File \"/usr/local/lib/python3.11/dist-packages/torch/hub.py\", line 744, in download_url_to_file\n",
            "    buffer = u.read(READ_DATA_CHUNK)\n",
            "             ^^^^^^^^^^^^^^^^^^^^^^^\n",
            "  File \"/usr/lib/python3.11/http/client.py\", line 473, in read\n",
            "    s = self.fp.read(amt)\n",
            "        ^^^^^^^^^^^^^^^^^\n",
            "  File \"/usr/lib/python3.11/socket.py\", line 718, in readinto\n",
            "    return self._sock.recv_into(b)\n",
            "           ^^^^^^^^^^^^^^^^^^^^^^^\n",
            "  File \"/usr/lib/python3.11/ssl.py\", line 1314, in recv_into\n",
            "    return self.read(nbytes, buffer)\n",
            "           ^^^^^^^^^^^^^^^^^^^^^^^^^\n",
            "  File \"/usr/lib/python3.11/ssl.py\", line 1166, in read\n",
            "    return self._sslobj.read(len, buffer)\n",
            "           ^^^^^^^^^^^^^^^^^^^^^^^^^^^^^^\n",
            "KeyboardInterrupt\n",
            "^C\n"
          ]
        }
      ]
    },
    {
      "cell_type": "code",
      "source": [
        "!CUDA_VISIBLE_DEVICES=0 python inference.py --checkpoint_path checkpoints/wav2lip_gan.pth --face video_resized.mp4 --audio audio_trimmed.wav --fps 25\n"
      ],
      "metadata": {
        "colab": {
          "base_uri": "https://localhost:8080/"
        },
        "id": "4HX-vR6XwCDs",
        "outputId": "4b62ec55-315a-4464-8e41-18623d89d696"
      },
      "execution_count": 11,
      "outputs": [
        {
          "output_type": "stream",
          "name": "stdout",
          "text": [
            "Using cuda for inference.\n",
            "Reading video frames...\n",
            "Number of frames available for inference: 253\n",
            "(80, 801)\n",
            "Length of mel chunks: 237\n",
            "  0% 0/2 [00:00<?, ?it/s]Downloading: \"https://www.adrianbulat.com/downloads/python-fan/s3fd-619a316812.pth\" to /root/.cache/torch/hub/checkpoints/s3fd-619a316812.pth\n",
            "\n",
            "  0% 0.00/85.7M [00:00<?, ?B/s]\u001b[A\n",
            "  0% 128k/85.7M [00:00<02:18, 649kB/s]\u001b[A\n",
            "  0% 256k/85.7M [00:00<01:37, 918kB/s]\u001b[A\n",
            "  0% 384k/85.7M [00:00<01:24, 1.06MB/s]\u001b[A\n",
            "  1% 768k/85.7M [00:00<00:43, 2.04MB/s]\u001b[A\n",
            "  2% 1.50M/85.7M [00:00<00:22, 3.95MB/s]\u001b[A\n",
            "  3% 2.88M/85.7M [00:00<00:11, 7.26MB/s]\u001b[A\n",
            "  7% 5.75M/85.7M [00:00<00:05, 14.4MB/s]\u001b[A\n",
            " 10% 8.62M/85.7M [00:00<00:04, 19.2MB/s]\u001b[A\n",
            " 13% 11.2M/85.7M [00:01<00:03, 21.6MB/s]\u001b[A\n",
            " 17% 14.9M/85.7M [00:01<00:02, 26.5MB/s]\u001b[A\n",
            " 21% 17.6M/85.7M [00:01<00:02, 27.1MB/s]\u001b[A\n",
            " 24% 20.6M/85.7M [00:01<00:02, 28.3MB/s]\u001b[A\n",
            " 28% 23.9M/85.7M [00:01<00:02, 29.9MB/s]\u001b[A\n",
            " 32% 27.2M/85.7M [00:01<00:01, 31.5MB/s]\u001b[A\n",
            " 35% 30.4M/85.7M [00:01<00:01, 31.7MB/s]\u001b[A\n",
            " 39% 33.5M/85.7M [00:01<00:01, 31.9MB/s]\u001b[A\n",
            " 43% 36.6M/85.7M [00:01<00:01, 32.1MB/s]\u001b[A\n",
            " 46% 39.8M/85.7M [00:01<00:01, 32.1MB/s]\u001b[A\n",
            " 50% 42.9M/85.7M [00:02<00:01, 32.2MB/s]\u001b[A\n",
            " 54% 46.0M/85.7M [00:02<00:01, 32.3MB/s]\u001b[A\n",
            " 57% 49.1M/85.7M [00:02<00:01, 32.3MB/s]\u001b[A\n",
            " 61% 52.2M/85.7M [00:02<00:01, 32.3MB/s]\u001b[A\n",
            " 65% 55.4M/85.7M [00:02<00:00, 32.4MB/s]\u001b[A\n",
            " 68% 58.5M/85.7M [00:02<00:00, 32.3MB/s]\u001b[A\n",
            " 72% 61.6M/85.7M [00:02<00:00, 32.4MB/s]\u001b[A\n",
            " 76% 64.8M/85.7M [00:02<00:00, 32.4MB/s]\u001b[A\n",
            " 79% 67.9M/85.7M [00:02<00:00, 32.4MB/s]\u001b[A\n",
            " 83% 71.0M/85.7M [00:02<00:00, 32.4MB/s]\u001b[A\n",
            " 87% 74.1M/85.7M [00:03<00:00, 30.4MB/s]\u001b[A\n",
            " 90% 77.1M/85.7M [00:03<00:00, 30.5MB/s]\u001b[A\n",
            " 94% 80.5M/85.7M [00:03<00:00, 31.7MB/s]\u001b[A\n",
            "100% 85.7M/85.7M [00:03<00:00, 26.7MB/s]\n",
            "\n",
            "  0% 0/15 [00:00<?, ?it/s]\u001b[A\n",
            "  7% 1/15 [00:14<03:24, 14.59s/it]\u001b[A\n",
            " 13% 2/15 [00:15<01:26,  6.69s/it]\u001b[A\n",
            " 20% 3/15 [00:16<00:49,  4.12s/it]\u001b[A\n",
            " 27% 4/15 [00:17<00:32,  2.96s/it]\u001b[A\n",
            " 33% 5/15 [00:19<00:23,  2.32s/it]\u001b[A\n",
            " 40% 6/15 [00:20<00:17,  1.89s/it]\u001b[A\n",
            " 47% 7/15 [00:21<00:13,  1.63s/it]\u001b[A\n",
            " 53% 8/15 [00:22<00:10,  1.45s/it]\u001b[A\n",
            " 60% 9/15 [00:23<00:07,  1.33s/it]\u001b[A\n",
            " 67% 10/15 [00:24<00:06,  1.25s/it]\u001b[A\n",
            " 73% 11/15 [00:25<00:04,  1.20s/it]\u001b[A\n",
            " 80% 12/15 [00:26<00:03,  1.17s/it]\u001b[A\n",
            " 87% 13/15 [00:27<00:02,  1.14s/it]\u001b[A\n",
            " 93% 14/15 [00:28<00:01,  1.13s/it]\u001b[A\n",
            "100% 15/15 [00:41<00:00,  2.74s/it]\n",
            "Load checkpoint from: checkpoints/wav2lip_gan.pth\n",
            "Model loaded\n",
            "100% 2/2 [01:04<00:00, 32.18s/it]\n",
            "ffmpeg version 4.4.2-0ubuntu0.22.04.1 Copyright (c) 2000-2021 the FFmpeg developers\n",
            "  built with gcc 11 (Ubuntu 11.2.0-19ubuntu1)\n",
            "  configuration: --prefix=/usr --extra-version=0ubuntu0.22.04.1 --toolchain=hardened --libdir=/usr/lib/x86_64-linux-gnu --incdir=/usr/include/x86_64-linux-gnu --arch=amd64 --enable-gpl --disable-stripping --enable-gnutls --enable-ladspa --enable-libaom --enable-libass --enable-libbluray --enable-libbs2b --enable-libcaca --enable-libcdio --enable-libcodec2 --enable-libdav1d --enable-libflite --enable-libfontconfig --enable-libfreetype --enable-libfribidi --enable-libgme --enable-libgsm --enable-libjack --enable-libmp3lame --enable-libmysofa --enable-libopenjpeg --enable-libopenmpt --enable-libopus --enable-libpulse --enable-librabbitmq --enable-librubberband --enable-libshine --enable-libsnappy --enable-libsoxr --enable-libspeex --enable-libsrt --enable-libssh --enable-libtheora --enable-libtwolame --enable-libvidstab --enable-libvorbis --enable-libvpx --enable-libwebp --enable-libx265 --enable-libxml2 --enable-libxvid --enable-libzimg --enable-libzmq --enable-libzvbi --enable-lv2 --enable-omx --enable-openal --enable-opencl --enable-opengl --enable-sdl2 --enable-pocketsphinx --enable-librsvg --enable-libmfx --enable-libdc1394 --enable-libdrm --enable-libiec61883 --enable-chromaprint --enable-frei0r --enable-libx264 --enable-shared\n",
            "  libavutil      56. 70.100 / 56. 70.100\n",
            "  libavcodec     58.134.100 / 58.134.100\n",
            "  libavformat    58. 76.100 / 58. 76.100\n",
            "  libavdevice    58. 13.100 / 58. 13.100\n",
            "  libavfilter     7.110.100 /  7.110.100\n",
            "  libswscale      5.  9.100 /  5.  9.100\n",
            "  libswresample   3.  9.100 /  3.  9.100\n",
            "  libpostproc    55.  9.100 / 55.  9.100\n",
            "\u001b[0;33mGuessed Channel Layout for Input Stream #0.0 : mono\n",
            "\u001b[0mInput #0, wav, from 'audio_trimmed.wav':\n",
            "  Metadata:\n",
            "    encoder         : Lavf58.76.100\n",
            "  Duration: 00:00:10.00, bitrate: 384 kb/s\n",
            "  Stream #0:0: Audio: pcm_s16le ([1][0][0][0] / 0x0001), 24000 Hz, mono, s16, 384 kb/s\n",
            "Input #1, avi, from 'temp/result.avi':\n",
            "  Metadata:\n",
            "    software        : Lavf59.27.100\n",
            "  Duration: 00:00:09.88, start: 0.000000, bitrate: 1764 kb/s\n",
            "  Stream #1:0: Video: mpeg4 (Simple Profile) (DIVX / 0x58564944), yuv420p, 720x480 [SAR 1:1 DAR 3:2], 1762 kb/s, 24 fps, 24 tbr, 24 tbn, 24 tbc\n",
            "Stream mapping:\n",
            "  Stream #1:0 -> #0:0 (mpeg4 (native) -> h264 (libx264))\n",
            "  Stream #0:0 -> #0:1 (pcm_s16le (native) -> aac (native))\n",
            "Press [q] to stop, [?] for help\n",
            "\u001b[1;36m[libx264 @ 0x595c2bc6a1c0] \u001b[0m\u001b[0;33m-qscale is ignored, -crf is recommended.\n",
            "\u001b[0m\u001b[1;36m[libx264 @ 0x595c2bc6a1c0] \u001b[0musing SAR=1/1\n",
            "\u001b[1;36m[libx264 @ 0x595c2bc6a1c0] \u001b[0musing cpu capabilities: MMX2 SSE2Fast SSSE3 SSE4.2 AVX FMA3 BMI2 AVX2\n",
            "\u001b[1;36m[libx264 @ 0x595c2bc6a1c0] \u001b[0mprofile High, level 3.0, 4:2:0, 8-bit\n",
            "\u001b[1;36m[libx264 @ 0x595c2bc6a1c0] \u001b[0m264 - core 163 r3060 5db6aa6 - H.264/MPEG-4 AVC codec - Copyleft 2003-2021 - http://www.videolan.org/x264.html - options: cabac=1 ref=3 deblock=1:0:0 analyse=0x3:0x113 me=hex subme=7 psy=1 psy_rd=1.00:0.00 mixed_ref=1 me_range=16 chroma_me=1 trellis=1 8x8dct=1 cqm=0 deadzone=21,11 fast_pskip=1 chroma_qp_offset=-2 threads=3 lookahead_threads=1 sliced_threads=0 nr=0 decimate=1 interlaced=0 bluray_compat=0 constrained_intra=0 bframes=3 b_pyramid=2 b_adapt=1 b_bias=0 direct=1 weightb=1 open_gop=0 weightp=2 keyint=250 keyint_min=24 scenecut=40 intra_refresh=0 rc_lookahead=40 rc=crf mbtree=1 crf=23.0 qcomp=0.60 qpmin=0 qpmax=69 qpstep=4 ip_ratio=1.40 aq=1:1.00\n",
            "Output #0, mp4, to 'results/result_voice.mp4':\n",
            "  Metadata:\n",
            "    encoder         : Lavf58.76.100\n",
            "  Stream #0:0: Video: h264 (avc1 / 0x31637661), yuv420p(progressive), 720x480 [SAR 1:1 DAR 3:2], q=2-31, 24 fps, 12288 tbn\n",
            "    Metadata:\n",
            "      encoder         : Lavc58.134.100 libx264\n",
            "    Side data:\n",
            "      cpb: bitrate max/min/avg: 0/0/0 buffer size: 0 vbv_delay: N/A\n",
            "  Stream #0:1: Audio: aac (LC) (mp4a / 0x6134706D), 24000 Hz, mono, fltp, 69 kb/s\n",
            "    Metadata:\n",
            "      encoder         : Lavc58.134.100 aac\n",
            "frame=  237 fps= 54 q=-1.0 Lsize=     824kB time=00:00:09.98 bitrate= 676.0kbits/s speed=2.29x    \n",
            "video:735kB audio:82kB subtitle:0kB other streams:0kB global headers:0kB muxing overhead: 0.809350%\n",
            "\u001b[1;36m[libx264 @ 0x595c2bc6a1c0] \u001b[0mframe I:1     Avg QP:24.35  size: 19179\n",
            "\u001b[1;36m[libx264 @ 0x595c2bc6a1c0] \u001b[0mframe P:128   Avg QP:22.64  size:  4980\n",
            "\u001b[1;36m[libx264 @ 0x595c2bc6a1c0] \u001b[0mframe B:108   Avg QP:27.12  size:   885\n",
            "\u001b[1;36m[libx264 @ 0x595c2bc6a1c0] \u001b[0mconsecutive B-frames: 31.2% 22.8%  3.8% 42.2%\n",
            "\u001b[1;36m[libx264 @ 0x595c2bc6a1c0] \u001b[0mmb I  I16..4: 20.0% 75.0%  5.0%\n",
            "\u001b[1;36m[libx264 @ 0x595c2bc6a1c0] \u001b[0mmb P  I16..4:  1.4%  3.5%  0.1%  P16..4: 46.0% 12.0%  6.4%  0.0%  0.0%    skip:30.5%\n",
            "\u001b[1;36m[libx264 @ 0x595c2bc6a1c0] \u001b[0mmb B  I16..4:  0.2%  0.9%  0.0%  B16..8: 32.5%  1.5%  0.2%  direct: 0.4%  skip:64.2%  L0:45.4% L1:48.9% BI: 5.8%\n",
            "\u001b[1;36m[libx264 @ 0x595c2bc6a1c0] \u001b[0m8x8 transform intra:70.7% inter:76.0%\n",
            "\u001b[1;36m[libx264 @ 0x595c2bc6a1c0] \u001b[0mcoded y,uvDC,uvAC intra: 52.1% 69.6% 15.3% inter: 11.0% 16.2% 1.0%\n",
            "\u001b[1;36m[libx264 @ 0x595c2bc6a1c0] \u001b[0mi16 v,h,dc,p: 10% 60% 10% 20%\n",
            "\u001b[1;36m[libx264 @ 0x595c2bc6a1c0] \u001b[0mi8 v,h,dc,ddl,ddr,vr,hd,vl,hu: 14% 40% 32%  2%  2%  2%  4%  1%  3%\n",
            "\u001b[1;36m[libx264 @ 0x595c2bc6a1c0] \u001b[0mi4 v,h,dc,ddl,ddr,vr,hd,vl,hu: 16% 48% 14%  3%  4%  3%  5%  2%  3%\n",
            "\u001b[1;36m[libx264 @ 0x595c2bc6a1c0] \u001b[0mi8c dc,h,v,p: 36% 46% 14%  5%\n",
            "\u001b[1;36m[libx264 @ 0x595c2bc6a1c0] \u001b[0mWeighted P-Frames: Y:0.8% UV:0.0%\n",
            "\u001b[1;36m[libx264 @ 0x595c2bc6a1c0] \u001b[0mref P L0: 68.6%  9.9% 16.3%  5.2%\n",
            "\u001b[1;36m[libx264 @ 0x595c2bc6a1c0] \u001b[0mref B L0: 88.2%  9.5%  2.3%\n",
            "\u001b[1;36m[libx264 @ 0x595c2bc6a1c0] \u001b[0mref B L1: 98.0%  2.0%\n",
            "\u001b[1;36m[libx264 @ 0x595c2bc6a1c0] \u001b[0mkb/s:609.38\n",
            "\u001b[1;36m[aac @ 0x595c2bc6bc00] \u001b[0mQavg: 7493.806\n"
          ]
        }
      ]
    },
    {
      "cell_type": "code",
      "source": [
        "/usr/local/lib/python3.11/dist-packages/librosa/core/constantq.py"
      ],
      "metadata": {
        "id": "oV15CWNIvGpi"
      },
      "execution_count": null,
      "outputs": []
    },
    {
      "cell_type": "code",
      "source": [],
      "metadata": {
        "id": "0SDdWwVbDOaT"
      },
      "execution_count": null,
      "outputs": []
    },
    {
      "cell_type": "code",
      "source": [
        "/usr/local/lib/python3.11/dist-packages/librosa/util/utils.py"
      ],
      "metadata": {
        "id": "IazES2wZvvA_"
      },
      "execution_count": null,
      "outputs": []
    }
  ]
}